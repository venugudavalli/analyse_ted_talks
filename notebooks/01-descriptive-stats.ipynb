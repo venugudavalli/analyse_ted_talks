{
 "cells": [
  {
   "cell_type": "code",
   "execution_count": 1,
   "metadata": {},
   "outputs": [],
   "source": [
    "import numpy as np\n",
    "import pandas as pd\n",
    "import seaborn as sns\n",
    "\n",
    "from collections import Counter\n",
    "from pymongo import MongoClient\n",
    "\n",
    "from scipy.stats import spearmanr\n",
    "\n",
    "import pprint\n",
    "\n",
    "%matplotlib inline"
   ]
  },
  {
   "cell_type": "markdown",
   "metadata": {},
   "source": [
    "# Data loading"
   ]
  },
  {
   "cell_type": "markdown",
   "metadata": {},
   "source": [
    "**Create a MongoDB client, select our database and collection**"
   ]
  },
  {
   "cell_type": "code",
   "execution_count": 4,
   "metadata": {},
   "outputs": [],
   "source": [
    "client = MongoClient('mongodb://localhost:27017/')\n",
    "db = client['ted']\n",
    "coll = db['talks']"
   ]
  },
  {
   "cell_type": "code",
   "execution_count": 8,
   "metadata": {},
   "outputs": [
    {
     "data": {
      "text/plain": [
       "[]"
      ]
     },
     "execution_count": 8,
     "metadata": {},
     "output_type": "execute_result"
    }
   ],
   "source": [
    "db.list_collection_names() # list collections in database"
   ]
  },
  {
   "cell_type": "code",
   "execution_count": 6,
   "metadata": {},
   "outputs": [],
   "source": [
    "talk_one = coll.find().limit(1) # get one document"
   ]
  },
  {
   "cell_type": "code",
   "execution_count": 7,
   "metadata": {},
   "outputs": [],
   "source": [
    "for talk in talk_one:\n",
    "    pprint.pprint(talk)"
   ]
  },
  {
   "cell_type": "markdown",
   "metadata": {},
   "source": [
    "Extract all the talks and create a `DataFrame`."
   ]
  },
  {
   "cell_type": "code",
   "execution_count": 14,
   "metadata": {},
   "outputs": [
    {
     "data": {
      "text/html": [
       "<div>\n",
       "<style scoped>\n",
       "    .dataframe tbody tr th:only-of-type {\n",
       "        vertical-align: middle;\n",
       "    }\n",
       "\n",
       "    .dataframe tbody tr th {\n",
       "        vertical-align: top;\n",
       "    }\n",
       "\n",
       "    .dataframe thead th {\n",
       "        text-align: right;\n",
       "    }\n",
       "</style>\n",
       "<table border=\"1\" class=\"dataframe\">\n",
       "  <thead>\n",
       "    <tr style=\"text-align: right;\">\n",
       "      <th></th>\n",
       "      <th>_id</th>\n",
       "      <th>description</th>\n",
       "      <th>duration</th>\n",
       "      <th>event</th>\n",
       "      <th>external_links</th>\n",
       "      <th>id</th>\n",
       "      <th>published_at</th>\n",
       "      <th>ratings</th>\n",
       "      <th>speakers</th>\n",
       "      <th>tags</th>\n",
       "      <th>timings</th>\n",
       "      <th>title</th>\n",
       "      <th>transcript</th>\n",
       "      <th>url</th>\n",
       "      <th>viewed</th>\n",
       "    </tr>\n",
       "  </thead>\n",
       "  <tbody>\n",
       "    <tr>\n",
       "      <th>0</th>\n",
       "      <td>5b43d69485d82703bfc8b18f</td>\n",
       "      <td>Navigating territorial hippos and active minef...</td>\n",
       "      <td>541.0</td>\n",
       "      <td>TED2018</td>\n",
       "      <td>[https://www.imdb.com/title/tt0402399/, https:...</td>\n",
       "      <td>19330</td>\n",
       "      <td>1530648237</td>\n",
       "      <td>{'Persuasive': 3, 'Courageous': 12, 'Fascinati...</td>\n",
       "      <td>[{'id': '1833', 'first_name': 'Steve', 'last_n...</td>\n",
       "      <td>[conservation, nature, animals, science, beaut...</td>\n",
       "      <td>{'intro': {'start': 0, 'end': 12.0047299999999...</td>\n",
       "      <td>How we're saving one of Earth's last wild places</td>\n",
       "      <td>[{'time': 687, 'text': 'Visible from space,'},...</td>\n",
       "      <td>https://www.ted.com/talks/steve_boyes_how_we_r...</td>\n",
       "      <td>414293</td>\n",
       "    </tr>\n",
       "    <tr>\n",
       "      <th>1</th>\n",
       "      <td>5b43d69585d82703bfc8b190</td>\n",
       "      <td>Our planet has a carbon problem -- if we don't...</td>\n",
       "      <td>855.0</td>\n",
       "      <td>TED2018</td>\n",
       "      <td>[https://www.amazon.com/Climate-Intervention-D...</td>\n",
       "      <td>19756</td>\n",
       "      <td>1530801858</td>\n",
       "      <td>{'Jaw-dropping': 0, 'Informative': 23, 'Fascin...</td>\n",
       "      <td>[{'id': '3936', 'first_name': 'Jennifer', 'las...</td>\n",
       "      <td>[alternative energy, climate change, electrici...</td>\n",
       "      <td>{'intro': {'start': 0, 'end': 12.0047299999999...</td>\n",
       "      <td>A new way to remove CO2 from the atmosphere</td>\n",
       "      <td>[{'time': 1087, 'text': 'Four hundred parts pe...</td>\n",
       "      <td>https://www.ted.com/talks/jennifer_wilcox_a_ne...</td>\n",
       "      <td>441734</td>\n",
       "    </tr>\n",
       "    <tr>\n",
       "      <th>2</th>\n",
       "      <td>5b43d69585d82703bfc8b191</td>\n",
       "      <td>Jakob Magolan is here to change your perceptio...</td>\n",
       "      <td>953.0</td>\n",
       "      <td>TEDxUIdaho</td>\n",
       "      <td>[https://www.amazon.com/Napoleons-Buttons-Mole...</td>\n",
       "      <td>16782</td>\n",
       "      <td>1530887479</td>\n",
       "      <td>{'Beautiful': 4, 'Fascinating': 15, 'Jaw-dropp...</td>\n",
       "      <td>[{'id': '4077', 'first_name': 'Jakob', 'last_n...</td>\n",
       "      <td>[chemistry, TEDx, education, science, teaching]</td>\n",
       "      <td>{'intro': {'start': 0, 'end': 12.0047299999999...</td>\n",
       "      <td>A crash course in organic chemistry</td>\n",
       "      <td>[{'time': 623, 'text': 'I'd like you to ask yo...</td>\n",
       "      <td>https://www.ted.com/talks/jakob_magolan_a_cras...</td>\n",
       "      <td>399468</td>\n",
       "    </tr>\n",
       "    <tr>\n",
       "      <th>3</th>\n",
       "      <td>5b43d69585d82703bfc8b192</td>\n",
       "      <td>The Chinese internet has grown at a staggering...</td>\n",
       "      <td>761.0</td>\n",
       "      <td>TED2018</td>\n",
       "      <td>[https://www.scmp.com/video/china/2133426/extr...</td>\n",
       "      <td>19461</td>\n",
       "      <td>1531148069</td>\n",
       "      <td>{'Courageous': 3, 'Beautiful': 0, 'Confusing':...</td>\n",
       "      <td>[{'id': '3931', 'first_name': 'Gary', 'last_na...</td>\n",
       "      <td>[china, Asia, business, communication, data, s...</td>\n",
       "      <td>{'intro': {'start': 0, 'end': 12.0047299999999...</td>\n",
       "      <td>The rapid growth of the Chinese internet -- an...</td>\n",
       "      <td>[{'time': 833, 'text': 'Once every 12 months,'...</td>\n",
       "      <td>https://www.ted.com/talks/gary_liu_the_rapid_g...</td>\n",
       "      <td>117986</td>\n",
       "    </tr>\n",
       "    <tr>\n",
       "      <th>4</th>\n",
       "      <td>5b43d69585d82703bfc8b193</td>\n",
       "      <td>Dragonflies can catch prey with near perfect a...</td>\n",
       "      <td>317.0</td>\n",
       "      <td>DIY Neuroscience</td>\n",
       "      <td>[https://www.ted.com/series/diy-neuroscience]</td>\n",
       "      <td>17697</td>\n",
       "      <td>1528733297</td>\n",
       "      <td>{'Beautiful': 4, 'Ingenious': 2, 'Informative'...</td>\n",
       "      <td>[{'id': '1260', 'first_name': 'Greg', 'last_na...</td>\n",
       "      <td>[science, animals, insects, neuroscience]</td>\n",
       "      <td>{'intro': {'start': 0, 'end': 12.0047299999999...</td>\n",
       "      <td>How a dragonfly's brain is designed to kill</td>\n",
       "      <td>[{'time': 200, 'text': 'Greg Gage: If I asked ...</td>\n",
       "      <td>https://www.ted.com/talks/diy_neuroscience_the...</td>\n",
       "      <td>83322</td>\n",
       "    </tr>\n",
       "  </tbody>\n",
       "</table>\n",
       "</div>"
      ],
      "text/plain": [
       "                        _id  \\\n",
       "0  5b43d69485d82703bfc8b18f   \n",
       "1  5b43d69585d82703bfc8b190   \n",
       "2  5b43d69585d82703bfc8b191   \n",
       "3  5b43d69585d82703bfc8b192   \n",
       "4  5b43d69585d82703bfc8b193   \n",
       "\n",
       "                                         description  duration  \\\n",
       "0  Navigating territorial hippos and active minef...     541.0   \n",
       "1  Our planet has a carbon problem -- if we don't...     855.0   \n",
       "2  Jakob Magolan is here to change your perceptio...     953.0   \n",
       "3  The Chinese internet has grown at a staggering...     761.0   \n",
       "4  Dragonflies can catch prey with near perfect a...     317.0   \n",
       "\n",
       "              event                                     external_links     id  \\\n",
       "0           TED2018  [https://www.imdb.com/title/tt0402399/, https:...  19330   \n",
       "1           TED2018  [https://www.amazon.com/Climate-Intervention-D...  19756   \n",
       "2        TEDxUIdaho  [https://www.amazon.com/Napoleons-Buttons-Mole...  16782   \n",
       "3           TED2018  [https://www.scmp.com/video/china/2133426/extr...  19461   \n",
       "4  DIY Neuroscience      [https://www.ted.com/series/diy-neuroscience]  17697   \n",
       "\n",
       "   published_at                                            ratings  \\\n",
       "0    1530648237  {'Persuasive': 3, 'Courageous': 12, 'Fascinati...   \n",
       "1    1530801858  {'Jaw-dropping': 0, 'Informative': 23, 'Fascin...   \n",
       "2    1530887479  {'Beautiful': 4, 'Fascinating': 15, 'Jaw-dropp...   \n",
       "3    1531148069  {'Courageous': 3, 'Beautiful': 0, 'Confusing':...   \n",
       "4    1528733297  {'Beautiful': 4, 'Ingenious': 2, 'Informative'...   \n",
       "\n",
       "                                            speakers  \\\n",
       "0  [{'id': '1833', 'first_name': 'Steve', 'last_n...   \n",
       "1  [{'id': '3936', 'first_name': 'Jennifer', 'las...   \n",
       "2  [{'id': '4077', 'first_name': 'Jakob', 'last_n...   \n",
       "3  [{'id': '3931', 'first_name': 'Gary', 'last_na...   \n",
       "4  [{'id': '1260', 'first_name': 'Greg', 'last_na...   \n",
       "\n",
       "                                                tags  \\\n",
       "0  [conservation, nature, animals, science, beaut...   \n",
       "1  [alternative energy, climate change, electrici...   \n",
       "2    [chemistry, TEDx, education, science, teaching]   \n",
       "3  [china, Asia, business, communication, data, s...   \n",
       "4          [science, animals, insects, neuroscience]   \n",
       "\n",
       "                                             timings  \\\n",
       "0  {'intro': {'start': 0, 'end': 12.0047299999999...   \n",
       "1  {'intro': {'start': 0, 'end': 12.0047299999999...   \n",
       "2  {'intro': {'start': 0, 'end': 12.0047299999999...   \n",
       "3  {'intro': {'start': 0, 'end': 12.0047299999999...   \n",
       "4  {'intro': {'start': 0, 'end': 12.0047299999999...   \n",
       "\n",
       "                                               title  \\\n",
       "0   How we're saving one of Earth's last wild places   \n",
       "1        A new way to remove CO2 from the atmosphere   \n",
       "2                A crash course in organic chemistry   \n",
       "3  The rapid growth of the Chinese internet -- an...   \n",
       "4        How a dragonfly's brain is designed to kill   \n",
       "\n",
       "                                          transcript  \\\n",
       "0  [{'time': 687, 'text': 'Visible from space,'},...   \n",
       "1  [{'time': 1087, 'text': 'Four hundred parts pe...   \n",
       "2  [{'time': 623, 'text': 'I'd like you to ask yo...   \n",
       "3  [{'time': 833, 'text': 'Once every 12 months,'...   \n",
       "4  [{'time': 200, 'text': 'Greg Gage: If I asked ...   \n",
       "\n",
       "                                                 url  viewed  \n",
       "0  https://www.ted.com/talks/steve_boyes_how_we_r...  414293  \n",
       "1  https://www.ted.com/talks/jennifer_wilcox_a_ne...  441734  \n",
       "2  https://www.ted.com/talks/jakob_magolan_a_cras...  399468  \n",
       "3  https://www.ted.com/talks/gary_liu_the_rapid_g...  117986  \n",
       "4  https://www.ted.com/talks/diy_neuroscience_the...   83322  "
      ]
     },
     "execution_count": 14,
     "metadata": {},
     "output_type": "execute_result"
    }
   ],
   "source": [
    "talks_df = pd.DataFrame(list(coll.find({})))\n",
    "talks_df.head()"
   ]
  },
  {
   "cell_type": "code",
   "execution_count": 15,
   "metadata": {},
   "outputs": [
    {
     "data": {
      "text/plain": [
       "Index(['_id', 'description', 'duration', 'event', 'external_links', 'id',\n",
       "       'published_at', 'ratings', 'speakers', 'tags', 'timings', 'title',\n",
       "       'transcript', 'url', 'viewed'],\n",
       "      dtype='object')"
      ]
     },
     "execution_count": 15,
     "metadata": {},
     "output_type": "execute_result"
    }
   ],
   "source": [
    "talks_df.columns"
   ]
  },
  {
   "cell_type": "markdown",
   "metadata": {},
   "source": [
    "# Data cleaning"
   ]
  },
  {
   "cell_type": "markdown",
   "metadata": {},
   "source": [
    "Create a new variable `scraped_at` from the Cosmos DB `_ts` attribute."
   ]
  },
  {
   "cell_type": "markdown",
   "metadata": {},
   "source": [
    "Fix data types for `published_at`."
   ]
  },
  {
   "cell_type": "code",
   "execution_count": 16,
   "metadata": {},
   "outputs": [],
   "source": [
    "talks_df['published_at'] = pd.to_datetime(talks_df['published_at'], unit='s')"
   ]
  },
  {
   "cell_type": "markdown",
   "metadata": {},
   "source": [
    "Convert `duration` to minutes."
   ]
  },
  {
   "cell_type": "code",
   "execution_count": 17,
   "metadata": {},
   "outputs": [],
   "source": [
    "talks_df['duration'] /= 60"
   ]
  },
  {
   "cell_type": "markdown",
   "metadata": {},
   "source": [
    "Check sanity of values."
   ]
  },
  {
   "cell_type": "code",
   "execution_count": 18,
   "metadata": {},
   "outputs": [
    {
     "data": {
      "text/html": [
       "<div>\n",
       "<style scoped>\n",
       "    .dataframe tbody tr th:only-of-type {\n",
       "        vertical-align: middle;\n",
       "    }\n",
       "\n",
       "    .dataframe tbody tr th {\n",
       "        vertical-align: top;\n",
       "    }\n",
       "\n",
       "    .dataframe thead th {\n",
       "        text-align: right;\n",
       "    }\n",
       "</style>\n",
       "<table border=\"1\" class=\"dataframe\">\n",
       "  <thead>\n",
       "    <tr style=\"text-align: right;\">\n",
       "      <th></th>\n",
       "      <th>duration</th>\n",
       "      <th>published_at</th>\n",
       "      <th>viewed</th>\n",
       "    </tr>\n",
       "  </thead>\n",
       "  <tbody>\n",
       "    <tr>\n",
       "      <th>count</th>\n",
       "      <td>1092.000000</td>\n",
       "      <td>1092</td>\n",
       "      <td>1.092000e+03</td>\n",
       "    </tr>\n",
       "    <tr>\n",
       "      <th>unique</th>\n",
       "      <td>NaN</td>\n",
       "      <td>1092</td>\n",
       "      <td>NaN</td>\n",
       "    </tr>\n",
       "    <tr>\n",
       "      <th>top</th>\n",
       "      <td>NaN</td>\n",
       "      <td>2012-10-26 15:00:15</td>\n",
       "      <td>NaN</td>\n",
       "    </tr>\n",
       "    <tr>\n",
       "      <th>freq</th>\n",
       "      <td>NaN</td>\n",
       "      <td>1</td>\n",
       "      <td>NaN</td>\n",
       "    </tr>\n",
       "    <tr>\n",
       "      <th>first</th>\n",
       "      <td>NaN</td>\n",
       "      <td>2012-05-13 14:03:24</td>\n",
       "      <td>NaN</td>\n",
       "    </tr>\n",
       "    <tr>\n",
       "      <th>last</th>\n",
       "      <td>NaN</td>\n",
       "      <td>2018-07-09 14:54:29</td>\n",
       "      <td>NaN</td>\n",
       "    </tr>\n",
       "    <tr>\n",
       "      <th>mean</th>\n",
       "      <td>12.692125</td>\n",
       "      <td>NaN</td>\n",
       "      <td>1.859351e+06</td>\n",
       "    </tr>\n",
       "    <tr>\n",
       "      <th>std</th>\n",
       "      <td>4.562468</td>\n",
       "      <td>NaN</td>\n",
       "      <td>2.599881e+06</td>\n",
       "    </tr>\n",
       "    <tr>\n",
       "      <th>min</th>\n",
       "      <td>0.000000</td>\n",
       "      <td>NaN</td>\n",
       "      <td>4.686700e+04</td>\n",
       "    </tr>\n",
       "    <tr>\n",
       "      <th>25%</th>\n",
       "      <td>9.745833</td>\n",
       "      <td>NaN</td>\n",
       "      <td>9.989018e+05</td>\n",
       "    </tr>\n",
       "    <tr>\n",
       "      <th>50%</th>\n",
       "      <td>12.866667</td>\n",
       "      <td>NaN</td>\n",
       "      <td>1.262690e+06</td>\n",
       "    </tr>\n",
       "    <tr>\n",
       "      <th>75%</th>\n",
       "      <td>15.583333</td>\n",
       "      <td>NaN</td>\n",
       "      <td>1.773214e+06</td>\n",
       "    </tr>\n",
       "    <tr>\n",
       "      <th>max</th>\n",
       "      <td>60.133333</td>\n",
       "      <td>NaN</td>\n",
       "      <td>4.782622e+07</td>\n",
       "    </tr>\n",
       "  </tbody>\n",
       "</table>\n",
       "</div>"
      ],
      "text/plain": [
       "           duration         published_at        viewed\n",
       "count   1092.000000                 1092  1.092000e+03\n",
       "unique          NaN                 1092           NaN\n",
       "top             NaN  2012-10-26 15:00:15           NaN\n",
       "freq            NaN                    1           NaN\n",
       "first           NaN  2012-05-13 14:03:24           NaN\n",
       "last            NaN  2018-07-09 14:54:29           NaN\n",
       "mean      12.692125                  NaN  1.859351e+06\n",
       "std        4.562468                  NaN  2.599881e+06\n",
       "min        0.000000                  NaN  4.686700e+04\n",
       "25%        9.745833                  NaN  9.989018e+05\n",
       "50%       12.866667                  NaN  1.262690e+06\n",
       "75%       15.583333                  NaN  1.773214e+06\n",
       "max       60.133333                  NaN  4.782622e+07"
      ]
     },
     "execution_count": 18,
     "metadata": {},
     "output_type": "execute_result"
    }
   ],
   "source": [
    "talks_df.describe(exclude='object')"
   ]
  },
  {
   "cell_type": "markdown",
   "metadata": {},
   "source": [
    "Create a few more variables."
   ]
  },
  {
   "cell_type": "code",
   "execution_count": 19,
   "metadata": {},
   "outputs": [],
   "source": [
    "talks_df['external_links_count'] = talks_df['external_links'].apply(len)\n",
    "talks_df['speakers_count'] = talks_df['speakers'].apply(len)\n",
    "talks_df['tags_count'] = talks_df['tags'].apply(len)\n",
    "\n",
    "talks_df['total_ratings'] = talks_df['ratings'].apply(lambda x: sum(x.values()))\n"
   ]
  },
  {
   "cell_type": "markdown",
   "metadata": {},
   "source": [
    "Extract `ratings` into separate variables."
   ]
  },
  {
   "cell_type": "code",
   "execution_count": 20,
   "metadata": {},
   "outputs": [],
   "source": [
    "rating_names = {name for names in talks_df['ratings'] for name in names}"
   ]
  },
  {
   "cell_type": "code",
   "execution_count": 21,
   "metadata": {},
   "outputs": [
    {
     "data": {
      "text/plain": [
       "{'Beautiful',\n",
       " 'Confusing',\n",
       " 'Courageous',\n",
       " 'Fascinating',\n",
       " 'Funny',\n",
       " 'Informative',\n",
       " 'Ingenious',\n",
       " 'Inspiring',\n",
       " 'Jaw-dropping',\n",
       " 'Longwinded',\n",
       " 'OK',\n",
       " 'Obnoxious',\n",
       " 'Persuasive',\n",
       " 'Unconvincing'}"
      ]
     },
     "execution_count": 21,
     "metadata": {},
     "output_type": "execute_result"
    }
   ],
   "source": [
    "rating_names"
   ]
  },
  {
   "cell_type": "code",
   "execution_count": 22,
   "metadata": {},
   "outputs": [],
   "source": [
    "for rating_name in rating_names:\n",
    "    talks_df['rated_' + rating_name.lower()] = talks_df['ratings'].apply(lambda x: x.get(rating_name, 0)) / \\\n",
    "                                               talks_df['total_ratings']"
   ]
  },
  {
   "cell_type": "markdown",
   "metadata": {},
   "source": [
    "Create dummy variables for the most common `tags` (present in ≥ 5% of the talks)."
   ]
  },
  {
   "cell_type": "code",
   "execution_count": 23,
   "metadata": {},
   "outputs": [],
   "source": [
    "all_tags = Counter(tag for tags in talks_df['tags'] for tag in tags)\n",
    "frequent_tags = {tag for tag, count in all_tags.items() if count >= 0.05 * len(talks_df)}"
   ]
  },
  {
   "cell_type": "code",
   "execution_count": 24,
   "metadata": {},
   "outputs": [
    {
     "data": {
      "text/plain": [
       "{'Africa',\n",
       " 'Internet',\n",
       " 'TED Fellows',\n",
       " 'TEDx',\n",
       " 'activism',\n",
       " 'animals',\n",
       " 'art',\n",
       " 'biology',\n",
       " 'brain',\n",
       " 'business',\n",
       " 'children',\n",
       " 'climate change',\n",
       " 'collaboration',\n",
       " 'communication',\n",
       " 'community',\n",
       " 'computers',\n",
       " 'creativity',\n",
       " 'culture',\n",
       " 'data',\n",
       " 'design',\n",
       " 'economics',\n",
       " 'education',\n",
       " 'engineering',\n",
       " 'environment',\n",
       " 'family',\n",
       " 'future',\n",
       " 'global issues',\n",
       " 'government',\n",
       " 'health',\n",
       " 'history',\n",
       " 'humanity',\n",
       " 'identity',\n",
       " 'inequality',\n",
       " 'innovation',\n",
       " 'life',\n",
       " 'medicine',\n",
       " 'nature',\n",
       " 'personal growth',\n",
       " 'politics',\n",
       " 'potential',\n",
       " 'science',\n",
       " 'social change',\n",
       " 'society',\n",
       " 'technology',\n",
       " 'women'}"
      ]
     },
     "execution_count": 24,
     "metadata": {},
     "output_type": "execute_result"
    }
   ],
   "source": [
    "frequent_tags"
   ]
  },
  {
   "cell_type": "code",
   "execution_count": 25,
   "metadata": {},
   "outputs": [],
   "source": [
    "for tag in frequent_tags:\n",
    "    talks_df['tagged_' + tag.lower().replace(' ', '_')] = talks_df['tags'].apply(lambda x: tag in x).astype(int)"
   ]
  },
  {
   "cell_type": "code",
   "execution_count": 26,
   "metadata": {},
   "outputs": [
    {
     "data": {
      "text/html": [
       "<div>\n",
       "<style scoped>\n",
       "    .dataframe tbody tr th:only-of-type {\n",
       "        vertical-align: middle;\n",
       "    }\n",
       "\n",
       "    .dataframe tbody tr th {\n",
       "        vertical-align: top;\n",
       "    }\n",
       "\n",
       "    .dataframe thead th {\n",
       "        text-align: right;\n",
       "    }\n",
       "</style>\n",
       "<table border=\"1\" class=\"dataframe\">\n",
       "  <thead>\n",
       "    <tr style=\"text-align: right;\">\n",
       "      <th></th>\n",
       "      <th>_id</th>\n",
       "      <th>description</th>\n",
       "      <th>duration</th>\n",
       "      <th>event</th>\n",
       "      <th>external_links</th>\n",
       "      <th>id</th>\n",
       "      <th>published_at</th>\n",
       "      <th>ratings</th>\n",
       "      <th>speakers</th>\n",
       "      <th>tags</th>\n",
       "      <th>...</th>\n",
       "      <th>tagged_culture</th>\n",
       "      <th>tagged_design</th>\n",
       "      <th>tagged_politics</th>\n",
       "      <th>tagged_global_issues</th>\n",
       "      <th>tagged_science</th>\n",
       "      <th>tagged_ted_fellows</th>\n",
       "      <th>tagged_identity</th>\n",
       "      <th>tagged_nature</th>\n",
       "      <th>tagged_inequality</th>\n",
       "      <th>tagged_humanity</th>\n",
       "    </tr>\n",
       "  </thead>\n",
       "  <tbody>\n",
       "    <tr>\n",
       "      <th>0</th>\n",
       "      <td>5b43d69485d82703bfc8b18f</td>\n",
       "      <td>Navigating territorial hippos and active minef...</td>\n",
       "      <td>9.016667</td>\n",
       "      <td>TED2018</td>\n",
       "      <td>[https://www.imdb.com/title/tt0402399/, https:...</td>\n",
       "      <td>19330</td>\n",
       "      <td>2018-07-03 20:03:57</td>\n",
       "      <td>{'Persuasive': 3, 'Courageous': 12, 'Fascinati...</td>\n",
       "      <td>[{'id': '1833', 'first_name': 'Steve', 'last_n...</td>\n",
       "      <td>[conservation, nature, animals, science, beaut...</td>\n",
       "      <td>...</td>\n",
       "      <td>0</td>\n",
       "      <td>0</td>\n",
       "      <td>0</td>\n",
       "      <td>0</td>\n",
       "      <td>1</td>\n",
       "      <td>1</td>\n",
       "      <td>0</td>\n",
       "      <td>1</td>\n",
       "      <td>0</td>\n",
       "      <td>1</td>\n",
       "    </tr>\n",
       "    <tr>\n",
       "      <th>1</th>\n",
       "      <td>5b43d69585d82703bfc8b190</td>\n",
       "      <td>Our planet has a carbon problem -- if we don't...</td>\n",
       "      <td>14.250000</td>\n",
       "      <td>TED2018</td>\n",
       "      <td>[https://www.amazon.com/Climate-Intervention-D...</td>\n",
       "      <td>19756</td>\n",
       "      <td>2018-07-05 14:44:18</td>\n",
       "      <td>{'Jaw-dropping': 0, 'Informative': 23, 'Fascin...</td>\n",
       "      <td>[{'id': '3936', 'first_name': 'Jennifer', 'las...</td>\n",
       "      <td>[alternative energy, climate change, electrici...</td>\n",
       "      <td>...</td>\n",
       "      <td>0</td>\n",
       "      <td>0</td>\n",
       "      <td>0</td>\n",
       "      <td>0</td>\n",
       "      <td>1</td>\n",
       "      <td>0</td>\n",
       "      <td>0</td>\n",
       "      <td>0</td>\n",
       "      <td>0</td>\n",
       "      <td>0</td>\n",
       "    </tr>\n",
       "    <tr>\n",
       "      <th>2</th>\n",
       "      <td>5b43d69585d82703bfc8b191</td>\n",
       "      <td>Jakob Magolan is here to change your perceptio...</td>\n",
       "      <td>15.883333</td>\n",
       "      <td>TEDxUIdaho</td>\n",
       "      <td>[https://www.amazon.com/Napoleons-Buttons-Mole...</td>\n",
       "      <td>16782</td>\n",
       "      <td>2018-07-06 14:31:19</td>\n",
       "      <td>{'Beautiful': 4, 'Fascinating': 15, 'Jaw-dropp...</td>\n",
       "      <td>[{'id': '4077', 'first_name': 'Jakob', 'last_n...</td>\n",
       "      <td>[chemistry, TEDx, education, science, teaching]</td>\n",
       "      <td>...</td>\n",
       "      <td>0</td>\n",
       "      <td>0</td>\n",
       "      <td>0</td>\n",
       "      <td>0</td>\n",
       "      <td>1</td>\n",
       "      <td>0</td>\n",
       "      <td>0</td>\n",
       "      <td>0</td>\n",
       "      <td>0</td>\n",
       "      <td>0</td>\n",
       "    </tr>\n",
       "    <tr>\n",
       "      <th>3</th>\n",
       "      <td>5b43d69585d82703bfc8b192</td>\n",
       "      <td>The Chinese internet has grown at a staggering...</td>\n",
       "      <td>12.683333</td>\n",
       "      <td>TED2018</td>\n",
       "      <td>[https://www.scmp.com/video/china/2133426/extr...</td>\n",
       "      <td>19461</td>\n",
       "      <td>2018-07-09 14:54:29</td>\n",
       "      <td>{'Courageous': 3, 'Beautiful': 0, 'Confusing':...</td>\n",
       "      <td>[{'id': '3931', 'first_name': 'Gary', 'last_na...</td>\n",
       "      <td>[china, Asia, business, communication, data, s...</td>\n",
       "      <td>...</td>\n",
       "      <td>0</td>\n",
       "      <td>0</td>\n",
       "      <td>0</td>\n",
       "      <td>0</td>\n",
       "      <td>0</td>\n",
       "      <td>0</td>\n",
       "      <td>0</td>\n",
       "      <td>0</td>\n",
       "      <td>0</td>\n",
       "      <td>0</td>\n",
       "    </tr>\n",
       "    <tr>\n",
       "      <th>4</th>\n",
       "      <td>5b43d69585d82703bfc8b193</td>\n",
       "      <td>Dragonflies can catch prey with near perfect a...</td>\n",
       "      <td>5.283333</td>\n",
       "      <td>DIY Neuroscience</td>\n",
       "      <td>[https://www.ted.com/series/diy-neuroscience]</td>\n",
       "      <td>17697</td>\n",
       "      <td>2018-06-11 16:08:17</td>\n",
       "      <td>{'Beautiful': 4, 'Ingenious': 2, 'Informative'...</td>\n",
       "      <td>[{'id': '1260', 'first_name': 'Greg', 'last_na...</td>\n",
       "      <td>[science, animals, insects, neuroscience]</td>\n",
       "      <td>...</td>\n",
       "      <td>0</td>\n",
       "      <td>0</td>\n",
       "      <td>0</td>\n",
       "      <td>0</td>\n",
       "      <td>1</td>\n",
       "      <td>0</td>\n",
       "      <td>0</td>\n",
       "      <td>0</td>\n",
       "      <td>0</td>\n",
       "      <td>0</td>\n",
       "    </tr>\n",
       "  </tbody>\n",
       "</table>\n",
       "<p>5 rows × 78 columns</p>\n",
       "</div>"
      ],
      "text/plain": [
       "                        _id  \\\n",
       "0  5b43d69485d82703bfc8b18f   \n",
       "1  5b43d69585d82703bfc8b190   \n",
       "2  5b43d69585d82703bfc8b191   \n",
       "3  5b43d69585d82703bfc8b192   \n",
       "4  5b43d69585d82703bfc8b193   \n",
       "\n",
       "                                         description   duration  \\\n",
       "0  Navigating territorial hippos and active minef...   9.016667   \n",
       "1  Our planet has a carbon problem -- if we don't...  14.250000   \n",
       "2  Jakob Magolan is here to change your perceptio...  15.883333   \n",
       "3  The Chinese internet has grown at a staggering...  12.683333   \n",
       "4  Dragonflies can catch prey with near perfect a...   5.283333   \n",
       "\n",
       "              event                                     external_links     id  \\\n",
       "0           TED2018  [https://www.imdb.com/title/tt0402399/, https:...  19330   \n",
       "1           TED2018  [https://www.amazon.com/Climate-Intervention-D...  19756   \n",
       "2        TEDxUIdaho  [https://www.amazon.com/Napoleons-Buttons-Mole...  16782   \n",
       "3           TED2018  [https://www.scmp.com/video/china/2133426/extr...  19461   \n",
       "4  DIY Neuroscience      [https://www.ted.com/series/diy-neuroscience]  17697   \n",
       "\n",
       "         published_at                                            ratings  \\\n",
       "0 2018-07-03 20:03:57  {'Persuasive': 3, 'Courageous': 12, 'Fascinati...   \n",
       "1 2018-07-05 14:44:18  {'Jaw-dropping': 0, 'Informative': 23, 'Fascin...   \n",
       "2 2018-07-06 14:31:19  {'Beautiful': 4, 'Fascinating': 15, 'Jaw-dropp...   \n",
       "3 2018-07-09 14:54:29  {'Courageous': 3, 'Beautiful': 0, 'Confusing':...   \n",
       "4 2018-06-11 16:08:17  {'Beautiful': 4, 'Ingenious': 2, 'Informative'...   \n",
       "\n",
       "                                            speakers  \\\n",
       "0  [{'id': '1833', 'first_name': 'Steve', 'last_n...   \n",
       "1  [{'id': '3936', 'first_name': 'Jennifer', 'las...   \n",
       "2  [{'id': '4077', 'first_name': 'Jakob', 'last_n...   \n",
       "3  [{'id': '3931', 'first_name': 'Gary', 'last_na...   \n",
       "4  [{'id': '1260', 'first_name': 'Greg', 'last_na...   \n",
       "\n",
       "                                                tags       ...         \\\n",
       "0  [conservation, nature, animals, science, beaut...       ...          \n",
       "1  [alternative energy, climate change, electrici...       ...          \n",
       "2    [chemistry, TEDx, education, science, teaching]       ...          \n",
       "3  [china, Asia, business, communication, data, s...       ...          \n",
       "4          [science, animals, insects, neuroscience]       ...          \n",
       "\n",
       "  tagged_culture tagged_design tagged_politics tagged_global_issues  \\\n",
       "0              0             0               0                    0   \n",
       "1              0             0               0                    0   \n",
       "2              0             0               0                    0   \n",
       "3              0             0               0                    0   \n",
       "4              0             0               0                    0   \n",
       "\n",
       "   tagged_science  tagged_ted_fellows  tagged_identity  tagged_nature  \\\n",
       "0               1                   1                0              1   \n",
       "1               1                   0                0              0   \n",
       "2               1                   0                0              0   \n",
       "3               0                   0                0              0   \n",
       "4               1                   0                0              0   \n",
       "\n",
       "   tagged_inequality  tagged_humanity  \n",
       "0                  0                1  \n",
       "1                  0                0  \n",
       "2                  0                0  \n",
       "3                  0                0  \n",
       "4                  0                0  \n",
       "\n",
       "[5 rows x 78 columns]"
      ]
     },
     "execution_count": 26,
     "metadata": {},
     "output_type": "execute_result"
    }
   ],
   "source": [
    "talks_df.head()"
   ]
  },
  {
   "cell_type": "code",
   "execution_count": 27,
   "metadata": {},
   "outputs": [
    {
     "data": {
      "text/plain": [
       "_id                               object\n",
       "description                       object\n",
       "duration                         float64\n",
       "event                             object\n",
       "external_links                    object\n",
       "id                                object\n",
       "published_at              datetime64[ns]\n",
       "ratings                           object\n",
       "speakers                          object\n",
       "tags                              object\n",
       "timings                           object\n",
       "title                             object\n",
       "transcript                        object\n",
       "url                               object\n",
       "viewed                             int64\n",
       "external_links_count               int64\n",
       "speakers_count                     int64\n",
       "tags_count                         int64\n",
       "total_ratings                      int64\n",
       "rated_ingenious                  float64\n",
       "rated_jaw-dropping               float64\n",
       "rated_obnoxious                  float64\n",
       "rated_persuasive                 float64\n",
       "rated_funny                      float64\n",
       "rated_courageous                 float64\n",
       "rated_inspiring                  float64\n",
       "rated_fascinating                float64\n",
       "rated_unconvincing               float64\n",
       "rated_beautiful                  float64\n",
       "rated_informative                float64\n",
       "                               ...      \n",
       "tagged_future                      int64\n",
       "tagged_health                      int64\n",
       "tagged_children                    int64\n",
       "tagged_government                  int64\n",
       "tagged_potential                   int64\n",
       "tagged_communication               int64\n",
       "tagged_environment                 int64\n",
       "tagged_africa                      int64\n",
       "tagged_education                   int64\n",
       "tagged_society                     int64\n",
       "tagged_brain                       int64\n",
       "tagged_data                        int64\n",
       "tagged_engineering                 int64\n",
       "tagged_personal_growth             int64\n",
       "tagged_family                      int64\n",
       "tagged_innovation                  int64\n",
       "tagged_medicine                    int64\n",
       "tagged_women                       int64\n",
       "tagged_collaboration               int64\n",
       "tagged_climate_change              int64\n",
       "tagged_culture                     int64\n",
       "tagged_design                      int64\n",
       "tagged_politics                    int64\n",
       "tagged_global_issues               int64\n",
       "tagged_science                     int64\n",
       "tagged_ted_fellows                 int64\n",
       "tagged_identity                    int64\n",
       "tagged_nature                      int64\n",
       "tagged_inequality                  int64\n",
       "tagged_humanity                    int64\n",
       "Length: 78, dtype: object"
      ]
     },
     "execution_count": 27,
     "metadata": {},
     "output_type": "execute_result"
    }
   ],
   "source": [
    "talks_df.dtypes"
   ]
  },
  {
   "cell_type": "markdown",
   "metadata": {},
   "source": [
    "# Exploratory data analysis"
   ]
  },
  {
   "cell_type": "markdown",
   "metadata": {},
   "source": [
    "## Distribution of talk duration"
   ]
  },
  {
   "cell_type": "code",
   "execution_count": 28,
   "metadata": {},
   "outputs": [
    {
     "data": {
      "text/plain": [
       "<matplotlib.axes._subplots.AxesSubplot at 0x7f36af2e9f60>"
      ]
     },
     "execution_count": 28,
     "metadata": {},
     "output_type": "execute_result"
    },
    {
     "data": {
      "image/png": "[encoded data removed]",
      "text/plain": [
       "<matplotlib.figure.Figure at 0x7f36af3a2e10>"
      ]
     },
     "metadata": {},
     "output_type": "display_data"
    }
   ],
   "source": [
    "sns.distplot(talks_df['duration'], color='darkblue')  # In minutes"
   ]
  },
  {
   "cell_type": "markdown",
   "metadata": {},
   "source": [
    "## Top 20 events by number of talks"
   ]
  },
  {
   "cell_type": "code",
   "execution_count": 29,
   "metadata": {},
   "outputs": [
    {
     "data": {
      "text/plain": [
       "<matplotlib.axes._subplots.AxesSubplot at 0x7f36ae4dae80>"
      ]
     },
     "execution_count": 29,
     "metadata": {},
     "output_type": "execute_result"
    },
    {
     "data": {
      "image/png": "[encoded data removed]",
      "text/plain": [
       "<matplotlib.figure.Figure at 0x7f36aeaeff60>"
      ]
     },
     "metadata": {},
     "output_type": "display_data"
    }
   ],
   "source": [
    "talks_df['event'].value_counts().head(20).plot.bar(color='darkblue')"
   ]
  },
  {
   "cell_type": "markdown",
   "metadata": {},
   "source": [
    "## Number of external links\n",
    "\n",
    "**Note**: the rightmost bar is for 10+ links."
   ]
  },
  {
   "cell_type": "code",
   "execution_count": 30,
   "metadata": {},
   "outputs": [
    {
     "data": {
      "text/plain": [
       "<matplotlib.axes._subplots.AxesSubplot at 0x7f36ae4daf98>"
      ]
     },
     "execution_count": 30,
     "metadata": {},
     "output_type": "execute_result"
    },
    {
     "data": {
      "image/png": "[encoded data removed]",
      "text/plain": [
       "<matplotlib.figure.Figure at 0x7f36adc36da0>"
      ]
     },
     "metadata": {},
     "output_type": "display_data"
    }
   ],
   "source": [
    "pd.cut(talks_df['external_links_count'],\n",
    "       bins=list(range(11)) + [np.inf],\n",
    "       labels=False,\n",
    "       include_lowest=True).value_counts().sort_index().plot.bar(color='darkblue')"
   ]
  },
  {
   "cell_type": "markdown",
   "metadata": {},
   "source": [
    "## Talks filmed by year"
   ]
  },
  {
   "cell_type": "code",
   "execution_count": 1,
   "metadata": {},
   "outputs": [],
   "source": [
    "# filmed_at attribute is no more available on webpage\n",
    "#talks_df.set_index('filmed_at') \\\n",
    "#    .resample('Y')['id'] \\\n",
    "#    .count() \\\n",
    "#    .plot.line(color='darkblue')\n"
   ]
  },
  {
   "cell_type": "markdown",
   "metadata": {},
   "source": [
    "## Number of ratings"
   ]
  },
  {
   "cell_type": "code",
   "execution_count": 31,
   "metadata": {},
   "outputs": [
    {
     "data": {
      "text/plain": [
       "count     1092.000000\n",
       "mean      1959.530220\n",
       "std       3450.115796\n",
       "min          3.000000\n",
       "25%        628.750000\n",
       "50%       1161.500000\n",
       "75%       2010.750000\n",
       "max      73312.000000\n",
       "Name: total_ratings, dtype: float64"
      ]
     },
     "execution_count": 31,
     "metadata": {},
     "output_type": "execute_result"
    }
   ],
   "source": [
    "talks_df['total_ratings'].describe()"
   ]
  },
  {
   "cell_type": "code",
   "execution_count": 32,
   "metadata": {},
   "outputs": [
    {
     "data": {
      "text/plain": [
       "<matplotlib.axes._subplots.AxesSubplot at 0x7f36ac88c630>"
      ]
     },
     "execution_count": 32,
     "metadata": {},
     "output_type": "execute_result"
    },
    {
     "data": {
      "image/png": "[encoded data removed]",
      "text/plain": [
       "<matplotlib.figure.Figure at 0x7f36ae120208>"
      ]
     },
     "metadata": {},
     "output_type": "display_data"
    }
   ],
   "source": [
    "sns.distplot(np.log10(talks_df['total_ratings']), color='darkblue')"
   ]
  },
  {
   "cell_type": "markdown",
   "metadata": {},
   "source": [
    "## Number of speakers"
   ]
  },
  {
   "cell_type": "code",
   "execution_count": 33,
   "metadata": {},
   "outputs": [
    {
     "data": {
      "text/plain": [
       "<matplotlib.axes._subplots.AxesSubplot at 0x7f36abdcf710>"
      ]
     },
     "execution_count": 33,
     "metadata": {},
     "output_type": "execute_result"
    },
    {
     "data": {
      "image/png": "[encoded data removed]",
      "text/plain": [
       "<matplotlib.figure.Figure at 0x7f36aab05ba8>"
      ]
     },
     "metadata": {},
     "output_type": "display_data"
    }
   ],
   "source": [
    "talks_df['speakers_count'].value_counts().sort_index().plot.bar(color='darkblue')"
   ]
  },
  {
   "cell_type": "markdown",
   "metadata": {},
   "source": [
    "## Number of tags\n",
    "\n",
    "**Note**: the rightmost bar is for 20+ tags."
   ]
  },
  {
   "cell_type": "code",
   "execution_count": 34,
   "metadata": {},
   "outputs": [
    {
     "data": {
      "text/plain": [
       "<matplotlib.axes._subplots.AxesSubplot at 0x7f36aa1ec518>"
      ]
     },
     "execution_count": 34,
     "metadata": {},
     "output_type": "execute_result"
    },
    {
     "data": {
      "image/png": "[encoded data removed]",
      "text/plain": [
       "<matplotlib.figure.Figure at 0x7f36aa85b320>"
      ]
     },
     "metadata": {},
     "output_type": "display_data"
    }
   ],
   "source": [
    "pd.cut(talks_df['tags_count'],\n",
    "       bins=list(range(21)) + [np.inf],\n",
    "       labels=False,\n",
    "       include_lowest=True).value_counts().sort_index().plot.bar(color='darkblue')"
   ]
  },
  {
   "cell_type": "markdown",
   "metadata": {},
   "source": [
    "## Distribution of views and views/day"
   ]
  },
  {
   "cell_type": "code",
   "execution_count": 35,
   "metadata": {},
   "outputs": [
    {
     "data": {
      "text/plain": [
       "<matplotlib.axes._subplots.AxesSubplot at 0x7f36a8f6e240>"
      ]
     },
     "execution_count": 35,
     "metadata": {},
     "output_type": "execute_result"
    },
    {
     "data": {
      "image/png": "[encoded data removed]",
      "text/plain": [
       "<matplotlib.figure.Figure at 0x7f36af374438>"
      ]
     },
     "metadata": {},
     "output_type": "display_data"
    }
   ],
   "source": [
    "sns.distplot(np.log10(talks_df['viewed']), color='darkblue')"
   ]
  },
  {
   "cell_type": "code",
   "execution_count": 37,
   "metadata": {},
   "outputs": [],
   "source": [
    "#sns.distplot(np.log10(talks_df['views_per_day']), color='darkblue')"
   ]
  },
  {
   "cell_type": "markdown",
   "metadata": {},
   "source": [
    "## Spearman correlations with views/day"
   ]
  },
  {
   "cell_type": "code",
   "execution_count": 38,
   "metadata": {},
   "outputs": [],
   "source": [
    "columns = talks_df.select_dtypes(exclude=['datetime', 'object']).columns\n",
    "rating_corr = pd.DataFrame({\n",
    "    'variable': columns,\n",
    "    'r': [spearmanr(talks_df[x], talks_df['views_per_day']).correlation for x in columns],\n",
    "}).sort_values('r')"
   ]
  },
  {
   "cell_type": "code",
   "execution_count": 39,
   "metadata": {},
   "outputs": [
    {
     "data": {
      "text/html": [
       "<div>\n",
       "<style scoped>\n",
       "    .dataframe tbody tr th:only-of-type {\n",
       "        vertical-align: middle;\n",
       "    }\n",
       "\n",
       "    .dataframe tbody tr th {\n",
       "        vertical-align: top;\n",
       "    }\n",
       "\n",
       "    .dataframe thead th {\n",
       "        text-align: right;\n",
       "    }\n",
       "</style>\n",
       "<table border=\"1\" class=\"dataframe\">\n",
       "  <thead>\n",
       "    <tr style=\"text-align: right;\">\n",
       "      <th></th>\n",
       "      <th>r</th>\n",
       "      <th>variable</th>\n",
       "    </tr>\n",
       "  </thead>\n",
       "  <tbody>\n",
       "    <tr>\n",
       "      <th>12</th>\n",
       "      <td>-0.393055</td>\n",
       "      <td>rated_longwinded</td>\n",
       "    </tr>\n",
       "    <tr>\n",
       "      <th>9</th>\n",
       "      <td>-0.328173</td>\n",
       "      <td>rated_ok</td>\n",
       "    </tr>\n",
       "    <tr>\n",
       "      <th>15</th>\n",
       "      <td>-0.297059</td>\n",
       "      <td>rated_obnoxious</td>\n",
       "    </tr>\n",
       "    <tr>\n",
       "      <th>10</th>\n",
       "      <td>-0.292476</td>\n",
       "      <td>rated_unconvincing</td>\n",
       "    </tr>\n",
       "    <tr>\n",
       "      <th>13</th>\n",
       "      <td>-0.273829</td>\n",
       "      <td>rated_confusing</td>\n",
       "    </tr>\n",
       "    <tr>\n",
       "      <th>23</th>\n",
       "      <td>-0.191546</td>\n",
       "      <td>tagged_global_issues</td>\n",
       "    </tr>\n",
       "    <tr>\n",
       "      <th>21</th>\n",
       "      <td>-0.180779</td>\n",
       "      <td>rated_jaw-dropping</td>\n",
       "    </tr>\n",
       "    <tr>\n",
       "      <th>32</th>\n",
       "      <td>-0.154440</td>\n",
       "      <td>tagged_entertainment</td>\n",
       "    </tr>\n",
       "    <tr>\n",
       "      <th>29</th>\n",
       "      <td>-0.147298</td>\n",
       "      <td>tagged_design</td>\n",
       "    </tr>\n",
       "    <tr>\n",
       "      <th>5</th>\n",
       "      <td>-0.142400</td>\n",
       "      <td>publishing_delay</td>\n",
       "    </tr>\n",
       "    <tr>\n",
       "      <th>45</th>\n",
       "      <td>-0.135912</td>\n",
       "      <td>tagged_technology</td>\n",
       "    </tr>\n",
       "    <tr>\n",
       "      <th>0</th>\n",
       "      <td>-0.108830</td>\n",
       "      <td>duration</td>\n",
       "    </tr>\n",
       "    <tr>\n",
       "      <th>8</th>\n",
       "      <td>-0.107882</td>\n",
       "      <td>rated_ingenious</td>\n",
       "    </tr>\n",
       "    <tr>\n",
       "      <th>30</th>\n",
       "      <td>-0.100504</td>\n",
       "      <td>tagged_culture</td>\n",
       "    </tr>\n",
       "    <tr>\n",
       "      <th>18</th>\n",
       "      <td>0.129771</td>\n",
       "      <td>rated_informative</td>\n",
       "    </tr>\n",
       "    <tr>\n",
       "      <th>20</th>\n",
       "      <td>0.134987</td>\n",
       "      <td>rated_courageous</td>\n",
       "    </tr>\n",
       "    <tr>\n",
       "      <th>6</th>\n",
       "      <td>0.144163</td>\n",
       "      <td>total_ratings</td>\n",
       "    </tr>\n",
       "    <tr>\n",
       "      <th>43</th>\n",
       "      <td>0.145206</td>\n",
       "      <td>tagged_future</td>\n",
       "    </tr>\n",
       "    <tr>\n",
       "      <th>17</th>\n",
       "      <td>0.150259</td>\n",
       "      <td>rated_beautiful</td>\n",
       "    </tr>\n",
       "    <tr>\n",
       "      <th>50</th>\n",
       "      <td>0.178253</td>\n",
       "      <td>tagged_community</td>\n",
       "    </tr>\n",
       "    <tr>\n",
       "      <th>14</th>\n",
       "      <td>0.183822</td>\n",
       "      <td>rated_inspiring</td>\n",
       "    </tr>\n",
       "    <tr>\n",
       "      <th>55</th>\n",
       "      <td>0.186711</td>\n",
       "      <td>tagged_innovation</td>\n",
       "    </tr>\n",
       "    <tr>\n",
       "      <th>38</th>\n",
       "      <td>0.226674</td>\n",
       "      <td>tagged_identity</td>\n",
       "    </tr>\n",
       "    <tr>\n",
       "      <th>37</th>\n",
       "      <td>0.228472</td>\n",
       "      <td>tagged_communication</td>\n",
       "    </tr>\n",
       "    <tr>\n",
       "      <th>4</th>\n",
       "      <td>0.231662</td>\n",
       "      <td>tags_count</td>\n",
       "    </tr>\n",
       "    <tr>\n",
       "      <th>31</th>\n",
       "      <td>0.232305</td>\n",
       "      <td>tagged_social_change</td>\n",
       "    </tr>\n",
       "    <tr>\n",
       "      <th>27</th>\n",
       "      <td>0.249471</td>\n",
       "      <td>tagged_personal_growth</td>\n",
       "    </tr>\n",
       "    <tr>\n",
       "      <th>56</th>\n",
       "      <td>0.279731</td>\n",
       "      <td>tagged_humanity</td>\n",
       "    </tr>\n",
       "    <tr>\n",
       "      <th>39</th>\n",
       "      <td>0.362028</td>\n",
       "      <td>tagged_society</td>\n",
       "    </tr>\n",
       "    <tr>\n",
       "      <th>2</th>\n",
       "      <td>0.391818</td>\n",
       "      <td>external_links_count</td>\n",
       "    </tr>\n",
       "    <tr>\n",
       "      <th>1</th>\n",
       "      <td>0.602632</td>\n",
       "      <td>viewed</td>\n",
       "    </tr>\n",
       "    <tr>\n",
       "      <th>7</th>\n",
       "      <td>1.000000</td>\n",
       "      <td>views_per_day</td>\n",
       "    </tr>\n",
       "  </tbody>\n",
       "</table>\n",
       "</div>"
      ],
      "text/plain": [
       "           r                variable\n",
       "12 -0.393055        rated_longwinded\n",
       "9  -0.328173                rated_ok\n",
       "15 -0.297059         rated_obnoxious\n",
       "10 -0.292476      rated_unconvincing\n",
       "13 -0.273829         rated_confusing\n",
       "23 -0.191546    tagged_global_issues\n",
       "21 -0.180779      rated_jaw-dropping\n",
       "32 -0.154440    tagged_entertainment\n",
       "29 -0.147298           tagged_design\n",
       "5  -0.142400        publishing_delay\n",
       "45 -0.135912       tagged_technology\n",
       "0  -0.108830                duration\n",
       "8  -0.107882         rated_ingenious\n",
       "30 -0.100504          tagged_culture\n",
       "18  0.129771       rated_informative\n",
       "20  0.134987        rated_courageous\n",
       "6   0.144163           total_ratings\n",
       "43  0.145206           tagged_future\n",
       "17  0.150259         rated_beautiful\n",
       "50  0.178253        tagged_community\n",
       "14  0.183822         rated_inspiring\n",
       "55  0.186711       tagged_innovation\n",
       "38  0.226674         tagged_identity\n",
       "37  0.228472    tagged_communication\n",
       "4   0.231662              tags_count\n",
       "31  0.232305    tagged_social_change\n",
       "27  0.249471  tagged_personal_growth\n",
       "56  0.279731         tagged_humanity\n",
       "39  0.362028          tagged_society\n",
       "2   0.391818    external_links_count\n",
       "1   0.602632                  viewed\n",
       "7   1.000000           views_per_day"
      ]
     },
     "execution_count": 39,
     "metadata": {},
     "output_type": "execute_result"
    }
   ],
   "source": [
    "rating_corr[np.abs(rating_corr['r']) > 0.1]"
   ]
  }
 ],
 "metadata": {
  "kernelspec": {
   "display_name": "Python 3",
   "language": "python",
   "name": "python3"
  },
  "language_info": {
   "codemirror_mode": {
    "name": "ipython",
    "version": 3
   },
   "file_extension": ".py",
   "mimetype": "text/x-python",
   "name": "python",
   "nbconvert_exporter": "python",
   "pygments_lexer": "ipython3",
   "version": "3.6.4"
  }
 },
 "nbformat": 4,
 "nbformat_minor": 2
}
